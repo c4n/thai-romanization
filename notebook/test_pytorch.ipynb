{
 "cells": [
  {
   "cell_type": "code",
   "execution_count": 1,
   "metadata": {},
   "outputs": [],
   "source": [
    "import torch\n",
    "import torch.nn as nn\n",
    "from torch import optim\n",
    "import torch.nn.functional as F\n",
    "\n",
    "import random\n",
    "device = torch.device(\"cuda:0\" if torch.cuda.is_available() else \"cpu\")"
   ]
  },
  {
   "cell_type": "code",
   "execution_count": 2,
   "metadata": {},
   "outputs": [],
   "source": [
    "data_path = '../dataset/data.csv'\n",
    "with open(data_path, 'r', encoding='utf-8-sig') as f:\n",
    "    lines = f.read().split('\\n')\n",
    "\n",
    "input_texts = []\n",
    "target_texts = []\n",
    "input_characters = set()\n",
    "target_characters = set()    \n",
    "    \n",
    "for line in lines:\n",
    "    input_text, target_text = line.split('\\t')\n",
    "    target_text = target_text \n",
    "    input_texts.append(input_text)\n",
    "    target_texts.append(target_text)\n",
    "    for char in input_text:\n",
    "        if char not in input_characters:\n",
    "            input_characters.add(char)\n",
    "    for char in target_text:\n",
    "        if char not in target_characters:\n",
    "            target_characters.add(char)"
   ]
  },
  {
   "cell_type": "code",
   "execution_count": 3,
   "metadata": {},
   "outputs": [
    {
     "data": {
      "text/plain": [
       "'kongphanthahanpuenyai'"
      ]
     },
     "execution_count": 3,
     "metadata": {},
     "output_type": "execute_result"
    }
   ],
   "source": [
    "target_texts[0]"
   ]
  },
  {
   "cell_type": "code",
   "execution_count": 4,
   "metadata": {},
   "outputs": [
    {
     "name": "stdout",
     "output_type": "stream",
     "text": [
      "There are 648241 lines and 92 unique characters in your input data.\n"
     ]
    }
   ],
   "source": [
    "# +4 for padding, unknown, <start>, <end>\n",
    "data_size, vocab_size = len(input_texts), len(input_characters)+1 \n",
    "output_vocab_size = len(target_characters)+1 #+3 padding, <start>, <end>\n",
    "print('There are %d lines and %d unique characters in your input data.' % (data_size, vocab_size))\n",
    "maxlen_in = len( max(input_texts, key=len)) #max input length\n",
    "maxlen_out = len( max(target_texts, key=len)) #max output length"
   ]
  },
  {
   "cell_type": "code",
   "execution_count": 5,
   "metadata": {},
   "outputs": [
    {
     "data": {
      "text/plain": [
       "88"
      ]
     },
     "execution_count": 5,
     "metadata": {},
     "output_type": "execute_result"
    }
   ],
   "source": [
    "maxlen_out"
   ]
  },
  {
   "cell_type": "code",
   "execution_count": 6,
   "metadata": {},
   "outputs": [],
   "source": [
    "input_characters = sorted(input_characters)\n",
    "target_characters = sorted(target_characters) \n",
    "input_characters.insert(0,\"<PAD>\")#PADDING for input\n",
    "input_characters.insert(1,\"<UNK>\")\n",
    "input_characters.insert(2,\"<start>\")\n",
    "input_characters.insert(3,\"<end>\")\n",
    "target_characters.insert(0,\"<PAD>\")#PADDING for output\n",
    "target_characters.insert(1,\"<start>\")\n",
    "target_characters.insert(2,\"<end>\")\n",
    "\n",
    "#Input\n",
    "char_to_ix = { ch:i for i,ch in enumerate(input_characters) }\n",
    "ix_to_char = { i:ch for i,ch in enumerate(input_characters) } #reverse dictionary\n",
    "#Output\n",
    "target_char_to_ix = { ch:i for i,ch in enumerate(target_characters) }\n",
    "ix_to_target_char = { i:ch for i,ch in enumerate(target_characters) } #reverse dictionary"
   ]
  },
  {
   "cell_type": "code",
   "execution_count": 7,
   "metadata": {},
   "outputs": [],
   "source": [
    "m=648241\n",
    "Tx=maxlen_in\n",
    "Ty=maxlen_out"
   ]
  },
  {
   "cell_type": "code",
   "execution_count": 8,
   "metadata": {},
   "outputs": [
    {
     "data": {
      "text/plain": [
       "76"
      ]
     },
     "execution_count": 8,
     "metadata": {},
     "output_type": "execute_result"
    }
   ],
   "source": [
    "maxlen_in"
   ]
  },
  {
   "cell_type": "code",
   "execution_count": 9,
   "metadata": {},
   "outputs": [],
   "source": [
    "def prepare_sequence_in( input_text):\n",
    "    idxs = []\n",
    "    for w in input_text:\n",
    "        if w in char_to_ix:\n",
    "            idxs.append(char_to_ix[w])\n",
    "        else:\n",
    "            idxs.append(char_to_ix[\"<UNK>\"])\n",
    "    idxs.append(target_char_to_ix[\"<end>\"])\n",
    "    tensor = torch.tensor(idxs, dtype=torch.long)\n",
    "    return tensor.to(device)\n",
    "\n",
    "def prepare_sequence_target( input_text):\n",
    "    idxs = [target_char_to_ix[w] for w in input_text]\n",
    "    idxs.append(target_char_to_ix[\"<end>\"])\n",
    "    tensor = torch.tensor(idxs, dtype=torch.long)\n",
    "    return tensor.to(device)\n",
    "\n",
    "\n"
   ]
  },
  {
   "cell_type": "code",
   "execution_count": 10,
   "metadata": {},
   "outputs": [],
   "source": [
    "n_h = 64 #hidden dimensions for encoder \n",
    "n_s = 64 #hidden dimensions for decoder\n",
    "emb_dim = 64 #character embedding size"
   ]
  },
  {
   "cell_type": "code",
   "execution_count": 11,
   "metadata": {},
   "outputs": [],
   "source": [
    "class Encoder(nn.Module):\n",
    "    def __init__(self, vocab_size, hidden_dim, emb_dim):\n",
    "        super(Encoder, self).__init__()\n",
    "        self.hidden_dim = hidden_dim\n",
    "        self.char_emb = nn.Embedding(vocab_size, emb_dim)\n",
    "        self.lstm = nn.LSTM(emb_dim, self.hidden_dim // 2, bidirectional = True)\n",
    "\n",
    "    def forward(self, input_seq):\n",
    "        self.hidden = self.init_hidden()\n",
    "        embedded = self.char_emb(input_seq)\n",
    "        output, self.hidden = self.lstm(embedded.view(len(embedded), 1, -1), self.hidden)\n",
    "        return output, self.hidden\n",
    "\n",
    "    def init_hidden(self):\n",
    "        # The axes semantics are (num_layers, minibatch_size, hidden_dim)\n",
    "        return (torch.zeros(2, 1, self.hidden_dim // 2,requires_grad=True).to(device),\n",
    "    torch.zeros(2, 1, self.hidden_dim // 2,requires_grad=True).to(device))\n",
    "\n",
    "class OneStepDecoder(nn.Module):\n",
    "    def __init__(self, vocab_size, hidden_dim, emb_dim):\n",
    "        super(OneStepDecoder, self).__init__()\n",
    "        self.hidden_dim = hidden_dim\n",
    "        self.char_emb = nn.Embedding(vocab_size, emb_dim)\n",
    "        self.lstm = nn.LSTM(emb_dim, hidden_dim)\n",
    "        self.out = nn.Linear(hidden_dim, vocab_size)\n",
    "        self.softmax = nn.LogSoftmax(dim=1)\n",
    "\n",
    "        \n",
    "    def forward(self, input_step,hidden,encoder_outputs):\n",
    "        \n",
    "        embedded = self.char_emb(input_step).view(1, 1, -1)\n",
    "        output = embedded    \n",
    "        output = F.relu(output)\n",
    "        output, hidden = self.lstm(output, hidden)\n",
    "        output = F.log_softmax(self.out(output[0]), dim=1)\n",
    "        return output, hidden, []#this empty list should be replaced with decoder attn score \n",
    "\n",
    "    def init_hidden(self):\n",
    "        # The axes semantics are (num_layers, minibatch_size, hidden_dim)\n",
    "        return (torch.zeros(1, 1, self.hidden_dim ,requires_grad=True).to(device),\n",
    "    torch.zeros(1, 1, self.hidden_dim,requires_grad=True).to(device))\n"
   ]
  },
  {
   "cell_type": "code",
   "execution_count": 12,
   "metadata": {},
   "outputs": [],
   "source": [
    "#reference:https://pytorch.org/tutorials/intermediate/seq2seq_translation_tutorial.html#sphx-glr-intermediate-seq2seq-translation-tutorial-py\n",
    "teacher_forcing_ratio = 0.5\n",
    "\n",
    "\n",
    "def train(input_tensor, target_tensor, encoder, decoder, encoder_optimizer, decoder_optimizer, criterion, max_length=maxlen_out):\n",
    "  \n",
    "    encoder_optimizer.zero_grad()\n",
    "    decoder_optimizer.zero_grad()\n",
    "\n",
    "    input_length = input_tensor.size(0)\n",
    "    target_length = target_tensor.size(0)\n",
    "\n",
    "    #encoder_outputs = torch.zeros(max_length, encoder.hidden_dim, device=device)\n",
    "\n",
    "    loss = 0\n",
    "\n",
    "    encoder_outputs, encoder_hidden = encoder(input_tensor)\n",
    "\n",
    "\n",
    "    decoder_input = torch.tensor([target_char_to_ix[\"<start>\"]], device=device)\n",
    "    decoder_hidden = (encoder_hidden[0].reshape(1,1,encoder.hidden_dim),encoder_hidden[1].reshape(1,1,encoder.hidden_dim))\n",
    "\n",
    "    use_teacher_forcing = True if random.random() < teacher_forcing_ratio else False\n",
    "\n",
    "    if use_teacher_forcing:\n",
    "        # Teacher forcing: Feed the target as the next input\n",
    "        for di in range(target_length):\n",
    "            decoder_output, decoder_hidden, decoder_attention = decoder(\n",
    "                decoder_input, decoder_hidden, encoder_outputs)\n",
    "#           print(decoder_output.shape,target_tensor[di].shape,target_tensor[di])\n",
    "            loss += criterion(decoder_output, target_tensor[di].view(1))\n",
    "            decoder_input = target_tensor[di].view(1)  # Teacher forcing\n",
    "\n",
    "    else:\n",
    "        # Without teacher forcing: use its own predictions as the next input\n",
    "        for di in range(target_length):\n",
    "            decoder_output, decoder_hidden,decoder_attention = decoder(\n",
    "                decoder_input, decoder_hidden, encoder_outputs)\n",
    "            topv, topi = decoder_output.topk(1)\n",
    "            decoder_input = topi.squeeze().detach()  # detach from history as input\n",
    "\n",
    "            loss += criterion(decoder_output, target_tensor[di].view(1))\n",
    "            if decoder_input.item() == target_char_to_ix[\"<end>\"]:\n",
    "                break\n",
    "\n",
    "    loss.backward()\n",
    "\n",
    "    encoder_optimizer.step()\n",
    "    decoder_optimizer.step()\n",
    "\n",
    "    return loss.item() / target_length\n"
   ]
  },
  {
   "cell_type": "code",
   "execution_count": 13,
   "metadata": {},
   "outputs": [],
   "source": [
    "import time\n",
    "import math\n",
    "\n",
    "\n",
    "def asMinutes(s):\n",
    "    m = math.floor(s / 60)\n",
    "    s -= m * 60\n",
    "    return '%dm %ds' % (m, s)\n",
    "\n",
    "\n",
    "def timeSince(since, percent):\n",
    "    now = time.time()\n",
    "    s = now - since\n",
    "    es = s / (percent)\n",
    "    rs = es - s\n",
    "    return '%s (- %s)' % (asMinutes(s), asMinutes(rs))"
   ]
  },
  {
   "cell_type": "code",
   "execution_count": 14,
   "metadata": {},
   "outputs": [],
   "source": [
    "encoder = Encoder(len(char_to_ix), n_h, emb_dim).to(device)\n",
    "decoder = OneStepDecoder(len(target_char_to_ix), n_s, emb_dim).to(device)"
   ]
  },
  {
   "cell_type": "code",
   "execution_count": 15,
   "metadata": {},
   "outputs": [],
   "source": [
    "learning_rate = 0.001\n",
    "encoder_optimizer = torch.optim.Adam(encoder.parameters(), lr=learning_rate)\n",
    "decoder_optimizer = torch.optim.Adam(decoder.parameters(), lr=learning_rate)\n",
    "criterion = nn.NLLLoss()"
   ]
  },
  {
   "cell_type": "code",
   "execution_count": 16,
   "metadata": {},
   "outputs": [],
   "source": [
    "def trainIters(encoder, decoder, epoch_num, learning_rate,encoder_optimizer,decoder_optimizer,criterion,print_every=1000,):\n",
    "    start = time.time()\n",
    "    plot_losses = []\n",
    "    print_loss_total = 0  # Reset every print_every\n",
    "    \n",
    "    \n",
    "    for epoch in range(epoch_num):\n",
    "        count = 1\n",
    "        for in_text,out_text in zip(input_texts,target_texts):\n",
    "            input_tensor =  prepare_sequence_in(in_text)\n",
    "            target_tensor = prepare_sequence_target(out_text)\n",
    "            loss = train(input_tensor, target_tensor, encoder,\n",
    "                         decoder, encoder_optimizer, decoder_optimizer, criterion)\n",
    "            print_loss_total += loss\n",
    "            #print(print_loss_total)\n",
    "            if count % print_every == 0:\n",
    "                print_loss_avg = print_loss_total / print_every\n",
    "                print_loss_total = 0\n",
    "                print('%s (%d %d%%) %.4f' % (timeSince(start, epoch+1 / epoch_num),\n",
    "                                                 epoch, epoch+1 / epoch_num * 100, print_loss_avg))\n",
    "            count += 1\n"
   ]
  },
  {
   "cell_type": "code",
   "execution_count": 17,
   "metadata": {},
   "outputs": [
    {
     "name": "stdout",
     "output_type": "stream",
     "text": [
      "0m 10s (- 0m 0s) (0 100%) 2.4585\n",
      "0m 21s (- 0m 0s) (0 100%) 2.0156\n",
      "0m 32s (- 0m 0s) (0 100%) 1.8287\n",
      "0m 43s (- 0m 0s) (0 100%) 1.7223\n",
      "0m 55s (- 0m 0s) (0 100%) 1.6345\n",
      "1m 6s (- 0m 0s) (0 100%) 1.5592\n",
      "1m 17s (- 0m 0s) (0 100%) 1.4941\n",
      "1m 28s (- 0m 0s) (0 100%) 1.4569\n",
      "1m 39s (- 0m 0s) (0 100%) 1.3796\n",
      "1m 50s (- 0m 0s) (0 100%) 1.3514\n",
      "2m 1s (- 0m 0s) (0 100%) 1.3547\n",
      "2m 12s (- 0m 0s) (0 100%) 1.3362\n",
      "2m 23s (- 0m 0s) (0 100%) 1.3051\n",
      "2m 33s (- 0m 0s) (0 100%) 1.2651\n",
      "2m 44s (- 0m 0s) (0 100%) 1.2530\n",
      "2m 55s (- 0m 0s) (0 100%) 1.2359\n",
      "3m 7s (- 0m 0s) (0 100%) 1.2530\n",
      "3m 18s (- 0m 0s) (0 100%) 1.2128\n",
      "3m 29s (- 0m 0s) (0 100%) 1.2088\n",
      "3m 40s (- 0m 0s) (0 100%) 1.1427\n",
      "3m 51s (- 0m 0s) (0 100%) 1.1543\n",
      "4m 2s (- 0m 0s) (0 100%) 1.1643\n",
      "4m 13s (- 0m 0s) (0 100%) 1.1705\n",
      "4m 24s (- 0m 0s) (0 100%) 1.1406\n",
      "4m 35s (- 0m 0s) (0 100%) 1.1318\n",
      "4m 46s (- 0m 0s) (0 100%) 1.1102\n",
      "4m 58s (- 0m 0s) (0 100%) 1.1142\n",
      "5m 9s (- 0m 0s) (0 100%) 1.1098\n",
      "5m 20s (- 0m 0s) (0 100%) 1.0900\n",
      "5m 31s (- 0m 0s) (0 100%) 1.0871\n",
      "5m 42s (- 0m 0s) (0 100%) 1.0727\n",
      "5m 53s (- 0m 0s) (0 100%) 1.0401\n",
      "6m 4s (- 0m 0s) (0 100%) 1.0607\n",
      "6m 15s (- 0m 0s) (0 100%) 1.0751\n",
      "6m 26s (- 0m 0s) (0 100%) 1.0434\n",
      "6m 37s (- 0m 0s) (0 100%) 1.0364\n",
      "6m 48s (- 0m 0s) (0 100%) 1.0105\n",
      "6m 59s (- 0m 0s) (0 100%) 1.0133\n",
      "7m 11s (- 0m 0s) (0 100%) 1.0251\n",
      "7m 21s (- 0m 0s) (0 100%) 1.0143\n",
      "7m 32s (- 0m 0s) (0 100%) 0.9761\n",
      "7m 43s (- 0m 0s) (0 100%) 0.9650\n",
      "7m 54s (- 0m 0s) (0 100%) 1.0349\n",
      "8m 5s (- 0m 0s) (0 100%) 0.9836\n",
      "8m 16s (- 0m 0s) (0 100%) 0.9566\n",
      "8m 27s (- 0m 0s) (0 100%) 0.9384\n",
      "8m 38s (- 0m 0s) (0 100%) 0.9744\n",
      "8m 49s (- 0m 0s) (0 100%) 0.9550\n",
      "9m 1s (- 0m 0s) (0 100%) 0.9488\n",
      "9m 12s (- 0m 0s) (0 100%) 0.9575\n",
      "9m 23s (- 0m 0s) (0 100%) 0.9463\n",
      "9m 34s (- 0m 0s) (0 100%) 0.9192\n",
      "9m 45s (- 0m 0s) (0 100%) 0.9130\n",
      "9m 56s (- 0m 0s) (0 100%) 0.9109\n",
      "10m 7s (- 0m 0s) (0 100%) 0.9268\n",
      "10m 18s (- 0m 0s) (0 100%) 0.9245\n",
      "10m 29s (- 0m 0s) (0 100%) 0.9161\n",
      "10m 41s (- 0m 0s) (0 100%) 0.9281\n",
      "10m 52s (- 0m 0s) (0 100%) 0.8890\n",
      "11m 3s (- 0m 0s) (0 100%) 0.8995\n",
      "11m 14s (- 0m 0s) (0 100%) 0.8796\n",
      "11m 25s (- 0m 0s) (0 100%) 0.9054\n",
      "11m 36s (- 0m 0s) (0 100%) 0.8847\n",
      "11m 47s (- 0m 0s) (0 100%) 0.8673\n",
      "11m 58s (- 0m 0s) (0 100%) 0.8698\n",
      "12m 9s (- 0m 0s) (0 100%) 0.8399\n",
      "12m 20s (- 0m 0s) (0 100%) 0.8601\n",
      "12m 31s (- 0m 0s) (0 100%) 0.8824\n",
      "12m 42s (- 0m 0s) (0 100%) 0.8923\n",
      "12m 53s (- 0m 0s) (0 100%) 0.8372\n",
      "13m 4s (- 0m 0s) (0 100%) 0.8355\n",
      "13m 15s (- 0m 0s) (0 100%) 0.8626\n",
      "13m 26s (- 0m 0s) (0 100%) 0.8037\n",
      "13m 37s (- 0m 0s) (0 100%) 0.8846\n",
      "13m 48s (- 0m 0s) (0 100%) 0.8796\n",
      "14m 0s (- 0m 0s) (0 100%) 0.8524\n",
      "14m 10s (- 0m 0s) (0 100%) 0.8435\n",
      "14m 21s (- 0m 0s) (0 100%) 0.8368\n",
      "14m 33s (- 0m 0s) (0 100%) 0.8516\n",
      "14m 44s (- 0m 0s) (0 100%) 0.8173\n",
      "14m 55s (- 0m 0s) (0 100%) 0.8408\n",
      "15m 6s (- 0m 0s) (0 100%) 0.8200\n",
      "15m 16s (- 0m 0s) (0 100%) 0.8403\n",
      "15m 28s (- 0m 0s) (0 100%) 0.8423\n",
      "15m 39s (- 0m 0s) (0 100%) 0.8587\n",
      "15m 50s (- 0m 0s) (0 100%) 0.8049\n",
      "16m 1s (- 0m 0s) (0 100%) 0.8016\n",
      "16m 12s (- 0m 0s) (0 100%) 0.8412\n",
      "16m 23s (- 0m 0s) (0 100%) 0.8252\n",
      "16m 35s (- 0m 0s) (0 100%) 0.8356\n",
      "16m 46s (- 0m 0s) (0 100%) 0.7810\n",
      "16m 57s (- 0m 0s) (0 100%) 0.7745\n",
      "17m 8s (- 0m 0s) (0 100%) 0.8173\n",
      "17m 19s (- 0m 0s) (0 100%) 0.8106\n",
      "17m 30s (- 0m 0s) (0 100%) 0.7801\n",
      "17m 41s (- 0m 0s) (0 100%) 0.7913\n",
      "17m 52s (- 0m 0s) (0 100%) 0.7921\n",
      "18m 4s (- 0m 0s) (0 100%) 0.8221\n",
      "18m 15s (- 0m 0s) (0 100%) 0.7921\n",
      "18m 26s (- 0m 0s) (0 100%) 0.7903\n",
      "18m 37s (- 0m 0s) (0 100%) 0.8018\n",
      "18m 48s (- 0m 0s) (0 100%) 0.7376\n",
      "18m 59s (- 0m 0s) (0 100%) 0.7820\n",
      "19m 10s (- 0m 0s) (0 100%) 0.7563\n",
      "19m 21s (- 0m 0s) (0 100%) 0.7294\n",
      "19m 32s (- 0m 0s) (0 100%) 0.7637\n",
      "19m 44s (- 0m 0s) (0 100%) 0.7514\n",
      "19m 54s (- 0m 0s) (0 100%) 0.7676\n",
      "20m 6s (- 0m 0s) (0 100%) 0.7982\n",
      "20m 17s (- 0m 0s) (0 100%) 0.7844\n",
      "20m 28s (- 0m 0s) (0 100%) 0.7419\n",
      "20m 39s (- 0m 0s) (0 100%) 0.7673\n",
      "20m 50s (- 0m 0s) (0 100%) 0.7585\n",
      "21m 2s (- 0m 0s) (0 100%) 0.7660\n",
      "21m 13s (- 0m 0s) (0 100%) 0.7873\n",
      "21m 24s (- 0m 0s) (0 100%) 0.7925\n",
      "21m 35s (- 0m 0s) (0 100%) 0.7462\n",
      "21m 47s (- 0m 0s) (0 100%) 0.7231\n",
      "21m 58s (- 0m 0s) (0 100%) 0.7296\n",
      "22m 9s (- 0m 0s) (0 100%) 0.7620\n",
      "22m 20s (- 0m 0s) (0 100%) 0.7319\n",
      "22m 31s (- 0m 0s) (0 100%) 0.7507\n",
      "22m 42s (- 0m 0s) (0 100%) 0.7702\n",
      "22m 53s (- 0m 0s) (0 100%) 0.7305\n",
      "23m 4s (- 0m 0s) (0 100%) 0.7312\n",
      "23m 15s (- 0m 0s) (0 100%) 0.7043\n",
      "23m 26s (- 0m 0s) (0 100%) 0.7385\n",
      "23m 37s (- 0m 0s) (0 100%) 0.7110\n",
      "23m 48s (- 0m 0s) (0 100%) 0.6844\n",
      "24m 0s (- 0m 0s) (0 100%) 0.7743\n",
      "24m 11s (- 0m 0s) (0 100%) 0.7305\n",
      "24m 21s (- 0m 0s) (0 100%) 0.7453\n",
      "24m 28s (- 0m 0s) (0 100%) 0.5436\n",
      "24m 34s (- 0m 0s) (0 100%) 0.3574\n",
      "24m 41s (- 0m 0s) (0 100%) 0.3553\n",
      "24m 47s (- 0m 0s) (0 100%) 0.3578\n",
      "24m 53s (- 0m 0s) (0 100%) 0.3407\n",
      "25m 0s (- 0m 0s) (0 100%) 0.3534\n",
      "25m 6s (- 0m 0s) (0 100%) 0.3210\n",
      "25m 12s (- 0m 0s) (0 100%) 0.3017\n",
      "25m 19s (- 0m 0s) (0 100%) 0.3406\n",
      "25m 25s (- 0m 0s) (0 100%) 0.3422\n",
      "25m 32s (- 0m 0s) (0 100%) 0.3041\n",
      "25m 38s (- 0m 0s) (0 100%) 0.2945\n",
      "25m 44s (- 0m 0s) (0 100%) 0.2886\n",
      "25m 50s (- 0m 0s) (0 100%) 0.2578\n",
      "25m 57s (- 0m 0s) (0 100%) 0.2715\n",
      "26m 3s (- 0m 0s) (0 100%) 0.2579\n",
      "26m 10s (- 0m 0s) (0 100%) 0.3103\n",
      "26m 16s (- 0m 0s) (0 100%) 0.2684\n",
      "26m 22s (- 0m 0s) (0 100%) 0.2711\n",
      "26m 28s (- 0m 0s) (0 100%) 0.2456\n",
      "26m 35s (- 0m 0s) (0 100%) 0.2287\n",
      "26m 41s (- 0m 0s) (0 100%) 0.2356\n",
      "26m 47s (- 0m 0s) (0 100%) 0.2611\n",
      "26m 53s (- 0m 0s) (0 100%) 0.2204\n",
      "27m 0s (- 0m 0s) (0 100%) 0.2072\n",
      "27m 6s (- 0m 0s) (0 100%) 0.2415\n"
     ]
    },
    {
     "ename": "KeyboardInterrupt",
     "evalue": "",
     "output_type": "error",
     "traceback": [
      "\u001b[0;31m---------------------------------------------------------------------------\u001b[0m",
      "\u001b[0;31mKeyboardInterrupt\u001b[0m                         Traceback (most recent call last)",
      "\u001b[0;32m<ipython-input-17-8668bccd5006>\u001b[0m in \u001b[0;36m<module>\u001b[0;34m\u001b[0m\n\u001b[0;32m----> 1\u001b[0;31m \u001b[0mtrainIters\u001b[0m\u001b[0;34m(\u001b[0m\u001b[0mencoder\u001b[0m\u001b[0;34m,\u001b[0m \u001b[0mdecoder\u001b[0m\u001b[0;34m,\u001b[0m \u001b[0;36m1\u001b[0m\u001b[0;34m,\u001b[0m\u001b[0mlearning_rate\u001b[0m\u001b[0;34m,\u001b[0m\u001b[0mencoder_optimizer\u001b[0m\u001b[0;34m,\u001b[0m\u001b[0mdecoder_optimizer\u001b[0m\u001b[0;34m,\u001b[0m\u001b[0mcriterion\u001b[0m\u001b[0;34m,\u001b[0m\u001b[0mprint_every\u001b[0m\u001b[0;34m=\u001b[0m\u001b[0;36m1000\u001b[0m\u001b[0;34m)\u001b[0m\u001b[0;34m\u001b[0m\u001b[0;34m\u001b[0m\u001b[0m\n\u001b[0m",
      "\u001b[0;32m<ipython-input-16-a6e20ca9661a>\u001b[0m in \u001b[0;36mtrainIters\u001b[0;34m(encoder, decoder, epoch_num, learning_rate, encoder_optimizer, decoder_optimizer, criterion, print_every)\u001b[0m\n\u001b[1;32m     11\u001b[0m             \u001b[0mtarget_tensor\u001b[0m \u001b[0;34m=\u001b[0m \u001b[0mprepare_sequence_target\u001b[0m\u001b[0;34m(\u001b[0m\u001b[0mout_text\u001b[0m\u001b[0;34m)\u001b[0m\u001b[0;34m\u001b[0m\u001b[0;34m\u001b[0m\u001b[0m\n\u001b[1;32m     12\u001b[0m             loss = train(input_tensor, target_tensor, encoder,\n\u001b[0;32m---> 13\u001b[0;31m                          decoder, encoder_optimizer, decoder_optimizer, criterion)\n\u001b[0m\u001b[1;32m     14\u001b[0m             \u001b[0mprint_loss_total\u001b[0m \u001b[0;34m+=\u001b[0m \u001b[0mloss\u001b[0m\u001b[0;34m\u001b[0m\u001b[0;34m\u001b[0m\u001b[0m\n\u001b[1;32m     15\u001b[0m             \u001b[0;31m#print(print_loss_total)\u001b[0m\u001b[0;34m\u001b[0m\u001b[0;34m\u001b[0m\u001b[0;34m\u001b[0m\u001b[0m\n",
      "\u001b[0;32m<ipython-input-12-277986917e77>\u001b[0m in \u001b[0;36mtrain\u001b[0;34m(input_tensor, target_tensor, encoder, decoder, encoder_optimizer, decoder_optimizer, criterion, max_length)\u001b[0m\n\u001b[1;32m     44\u001b[0m                 \u001b[0;32mbreak\u001b[0m\u001b[0;34m\u001b[0m\u001b[0;34m\u001b[0m\u001b[0m\n\u001b[1;32m     45\u001b[0m \u001b[0;34m\u001b[0m\u001b[0m\n\u001b[0;32m---> 46\u001b[0;31m     \u001b[0mloss\u001b[0m\u001b[0;34m.\u001b[0m\u001b[0mbackward\u001b[0m\u001b[0;34m(\u001b[0m\u001b[0;34m)\u001b[0m\u001b[0;34m\u001b[0m\u001b[0;34m\u001b[0m\u001b[0m\n\u001b[0m\u001b[1;32m     47\u001b[0m \u001b[0;34m\u001b[0m\u001b[0m\n\u001b[1;32m     48\u001b[0m     \u001b[0mencoder_optimizer\u001b[0m\u001b[0;34m.\u001b[0m\u001b[0mstep\u001b[0m\u001b[0;34m(\u001b[0m\u001b[0;34m)\u001b[0m\u001b[0;34m\u001b[0m\u001b[0;34m\u001b[0m\u001b[0m\n",
      "\u001b[0;32m~/miniconda3/lib/python3.7/site-packages/torch/tensor.py\u001b[0m in \u001b[0;36mbackward\u001b[0;34m(self, gradient, retain_graph, create_graph)\u001b[0m\n\u001b[1;32m    100\u001b[0m                 \u001b[0mproducts\u001b[0m\u001b[0;34m.\u001b[0m \u001b[0mDefaults\u001b[0m \u001b[0mto\u001b[0m\u001b[0;31m \u001b[0m\u001b[0;31m`\u001b[0m\u001b[0;31m`\u001b[0m\u001b[0;32mFalse\u001b[0m\u001b[0;31m`\u001b[0m\u001b[0;31m`\u001b[0m\u001b[0;34m.\u001b[0m\u001b[0;34m\u001b[0m\u001b[0;34m\u001b[0m\u001b[0m\n\u001b[1;32m    101\u001b[0m         \"\"\"\n\u001b[0;32m--> 102\u001b[0;31m         \u001b[0mtorch\u001b[0m\u001b[0;34m.\u001b[0m\u001b[0mautograd\u001b[0m\u001b[0;34m.\u001b[0m\u001b[0mbackward\u001b[0m\u001b[0;34m(\u001b[0m\u001b[0mself\u001b[0m\u001b[0;34m,\u001b[0m \u001b[0mgradient\u001b[0m\u001b[0;34m,\u001b[0m \u001b[0mretain_graph\u001b[0m\u001b[0;34m,\u001b[0m \u001b[0mcreate_graph\u001b[0m\u001b[0;34m)\u001b[0m\u001b[0;34m\u001b[0m\u001b[0;34m\u001b[0m\u001b[0m\n\u001b[0m\u001b[1;32m    103\u001b[0m \u001b[0;34m\u001b[0m\u001b[0m\n\u001b[1;32m    104\u001b[0m     \u001b[0;32mdef\u001b[0m \u001b[0mregister_hook\u001b[0m\u001b[0;34m(\u001b[0m\u001b[0mself\u001b[0m\u001b[0;34m,\u001b[0m \u001b[0mhook\u001b[0m\u001b[0;34m)\u001b[0m\u001b[0;34m:\u001b[0m\u001b[0;34m\u001b[0m\u001b[0;34m\u001b[0m\u001b[0m\n",
      "\u001b[0;32m~/miniconda3/lib/python3.7/site-packages/torch/autograd/__init__.py\u001b[0m in \u001b[0;36mbackward\u001b[0;34m(tensors, grad_tensors, retain_graph, create_graph, grad_variables)\u001b[0m\n\u001b[1;32m     88\u001b[0m     Variable._execution_engine.run_backward(\n\u001b[1;32m     89\u001b[0m         \u001b[0mtensors\u001b[0m\u001b[0;34m,\u001b[0m \u001b[0mgrad_tensors\u001b[0m\u001b[0;34m,\u001b[0m \u001b[0mretain_graph\u001b[0m\u001b[0;34m,\u001b[0m \u001b[0mcreate_graph\u001b[0m\u001b[0;34m,\u001b[0m\u001b[0;34m\u001b[0m\u001b[0;34m\u001b[0m\u001b[0m\n\u001b[0;32m---> 90\u001b[0;31m         allow_unreachable=True)  # allow_unreachable flag\n\u001b[0m\u001b[1;32m     91\u001b[0m \u001b[0;34m\u001b[0m\u001b[0m\n\u001b[1;32m     92\u001b[0m \u001b[0;34m\u001b[0m\u001b[0m\n",
      "\u001b[0;31mKeyboardInterrupt\u001b[0m: "
     ]
    }
   ],
   "source": [
    "trainIters(encoder, decoder, 1,learning_rate,encoder_optimizer,decoder_optimizer,criterion,print_every=1000)"
   ]
  },
  {
   "cell_type": "code",
   "execution_count": 44,
   "metadata": {},
   "outputs": [],
   "source": [
    "def evaluate(input_tensor, target_tensor, encoder, decoder, max_length=maxlen_out):\n",
    "  \n",
    "\n",
    "    input_length = input_tensor.size(0)\n",
    "    #target_length = target_tensor.size(0)\n",
    "\n",
    "    encoder_outputs, encoder_hidden = encoder(input_tensor)\n",
    "\n",
    "    decoder_input = torch.tensor([target_char_to_ix[\"<start>\"]], device=device)\n",
    "    decoder_hidden = (encoder_hidden[0].reshape(1,1,encoder.hidden_dim),encoder_hidden[1].reshape(1,1,encoder.hidden_dim))\n",
    "\n",
    "    decoded_seq = []\n",
    "\n",
    "    for di in range(max_length):\n",
    "        decoder_output, decoder_hidden,decoder_attention = decoder(\n",
    "            decoder_input, decoder_hidden, encoder_outputs)\n",
    "        topv, topi = decoder_output.data.topk(1)\n",
    "        if topi.item() == target_char_to_ix['<end>']:\n",
    "            decoded_seq.append('<end>')\n",
    "            break\n",
    "        else:\n",
    "            decoded_seq.append(ix_to_target_char[topi.item()])\n",
    "\n",
    "        decoder_input = topi.squeeze().detach()\n",
    "\n",
    "    return decoded_seq"
   ]
  },
  {
   "cell_type": "code",
   "execution_count": 45,
   "metadata": {},
   "outputs": [
    {
     "data": {
      "text/plain": [
       "{'<PAD>': 0,\n",
       " '<start>': 1,\n",
       " '<end>': 2,\n",
       " ' ': 3,\n",
       " '!': 4,\n",
       " '\"': 5,\n",
       " '(': 6,\n",
       " ')': 7,\n",
       " '-': 8,\n",
       " '0': 9,\n",
       " '1': 10,\n",
       " '2': 11,\n",
       " '3': 12,\n",
       " '4': 13,\n",
       " '5': 14,\n",
       " '6': 15,\n",
       " '7': 16,\n",
       " '8': 17,\n",
       " '9': 18,\n",
       " 'a': 19,\n",
       " 'b': 20,\n",
       " 'c': 21,\n",
       " 'd': 22,\n",
       " 'e': 23,\n",
       " 'f': 24,\n",
       " 'g': 25,\n",
       " 'h': 26,\n",
       " 'i': 27,\n",
       " 'k': 28,\n",
       " 'l': 29,\n",
       " 'm': 30,\n",
       " 'n': 31,\n",
       " 'o': 32,\n",
       " 'p': 33,\n",
       " 'r': 34,\n",
       " 's': 35,\n",
       " 't': 36,\n",
       " 'u': 37,\n",
       " 'w': 38,\n",
       " 'y': 39}"
      ]
     },
     "execution_count": 45,
     "metadata": {},
     "output_type": "execute_result"
    }
   ],
   "source": [
    "target_char_to_ix"
   ]
  },
  {
   "cell_type": "code",
   "execution_count": 42,
   "metadata": {},
   "outputs": [
    {
     "name": "stdout",
     "output_type": "stream",
     "text": [
      "['k', 'o', 'n', 'g', 'p', 'h', 'a', 'n', 'a', 'a', 'a', 'a', 'a', 'a', 'a', 'a', 'a', 'a', 'a', 'a', 'i', 'i'] kongphanthahanpuenyai\n",
      "2\n",
      "['w', 'i', 't', 'h', 'a', 'n', '<end>'] withun\n",
      "2\n",
      "['m', 'e', 't', 't', 'i', 't', ' ', 's', 'a', 'm', 'o', '<end>'] metabolisom\n",
      "2\n",
      "['b', 'a', 'n', 'n', 'o', 'n', 'g', 'n', 'a', 'o', '<end>'] bannonglao\n",
      "2\n",
      "['a', 'y', 'u', 't', '<end>'] ayut\n",
      "['t', 'h', 'a', 'e', 'p', 'h', 'a', 'm'] thaempa\n",
      "2\n",
      "['p', 'r', 'a', 't', 'h', 'a', 'e', 't', 't', 'a', 'e', 'k', 'a', 'n', '<end>'] prathetkrinlaen\n",
      "['p', 'h', 'r', 'a', 'k', 'h', 'r', 'o', 'n', 'g', 'k', 'a', 'k', 'k', 'o'] phakkhongkerot\n",
      "['k', 'a', 'r', 'u', 's', 'u', 'p'] kansup\n",
      "['b', 'a', 'n', 't', 'h', 'a', 'p', 'p', 'h', 'p', 'h', 'p', 'h', 'a', 'i', 'k', 'h'] banthepphayaktai\n",
      "['m', 'u', 't', 't', 'a', 'l', 'a', 't', 't', 'a', 'd', 'a', 't'] modulatnatat\n",
      "2\n",
      "['l', 'a', 'b', 'o', 'n', 'g', '<end>'] labong\n",
      "2\n",
      "['k', 'a', 'p', 'e', 'n', 'e', 'n', 'n', '<end>'] kalenpen\n",
      "['b', 'a', 'n', 's', 'a', 'p', 'h', 'a', 'c', 'h', 'e'] bansaiphet\n",
      "['b', 'a', 'n', 'c', 'h', 'a', 'i', 'n', 'a', 't', 'h', 'a', 'a', 'a'] banchaisawang\n",
      "['b', 'a', 'n', 'c', 'h', 'a', 'n', 'a', 'a', 'a', 'a', 'a', 'a', 'm'] bankhlongmali\n",
      "2\n",
      "['n', 'a', 'n', '<end>'] nan\n",
      "2\n",
      "['k', 'a', 'n', 'c', 'h', 'a', 'd', 'a', 'e', 'k', 'h', 'a', 'n', 'g', 't', 'h', 'a', 'a', 'a', 'a', 'a', 'm', '<end>'] kanchaekchaengchuangwela\n",
      "2\n",
      "['y', 'i', 'n', 'g', 'm', 'a', 'a', 'n', '<end>'] yinmalak\n",
      "2\n",
      "['p', 'h', 'a', 'n', 't', 'h', 'a', 'n', '<end>'] phanthana\n",
      "['k', 'a', 'r', 'a', 'w', 'a', 'n', 'g', 'g', 'w', 'a'] kanwangtua\n",
      "['a', 'y', 'a', 'n', 'g', 'n', 'g', 'a', 'i', 'a', 'i', 'a', 'n'] yangyailuang\n",
      "2\n",
      "['t', 'a', 'm', 'l', 'a', 'm', 'a', 'n', 'a', 'a', 'a', 'a', 'k', 'o', '<end>'] tambonloengfaek\n",
      "['l', 'a', 'm', 'h', 'a', 'w', 'a', 'a', 'a', 'a', 'a', 'a', 'a', 'a', 'a', 'a', 'a', 'a', 'i'] lomahuabatlangriap\n",
      "2\n",
      "['k', 'a', 'r', 'a', 'k', 'h', 'o', 'k', '<end>'] kankohok\n",
      "['b', 'a', 'n', 'n', 'o', 'n', 'g', 'p', 'h', 'a', 'n', 'g', 'n', 'o', 'n', 'o'] bannongphongnoi\n",
      "['k', 'a', 'n', 'a', 'k', 'a', 'n', 'g'] konsang\n",
      "2\n",
      "['a', 'n', 'u', 't', 'p', 'h', 'a', 'p', 'h', 'a', 'k', 'a', 't', '<end>'] anusaphakachat\n",
      "['b', 'a', 'n', 'c', 'h', 'o', 'k', 'h', 'a', 'a', 'i'] bankhontai\n",
      "2\n",
      "['b', 'a', 'n', 'a', 'n', 'a', 'k', 'e', 't', 't', '<end>'] bannakaset\n",
      "['m', 'o', 't', 'h', 'a', 'r', 'a', 'e', 'n'] motraeng\n",
      "2\n",
      "['a', 'n', 'u', 'k', 'a', 'n', '<end>'] unakan\n",
      "2\n",
      "['w', 'a', 'n', 'g', 'k', 'h', 'o', '<end>'] wangkho\n",
      "['k', 'h', 'l', 'o', 'n', 'g', 'k', 'h', 'a', 'n', 'a', 'n', 'n'] khlongkhanan\n",
      "2\n",
      "['a', 'r', 'o', '<end>'] oraha\n",
      "2\n",
      "['w', 'i', 't', 't', 'a', 'k', 'a', 'n', '<end>'] wisatchana\n",
      "2\n",
      "['h', 'a', '<end>'] ra\n",
      "2\n",
      "['t', 'a', 'm', 'd', 'o', 'e', 'm', '<end>'] tamdoem\n",
      "2\n",
      "['m', 'u', 'n', 'g', 'm', 'a', 'n', '<end>'] mungman\n",
      "['b', 'a', 'n', 'n', 'a', 'p', 'h', 'u', 'e', 't', 'h'] bannamphet\n",
      "2\n",
      "['b', 'a', 'n', 't', 'h', 'a', 'm', 'a', 'm', '<end>'] banthapnam\n",
      "2\n",
      "['b', 'a', 'n', 'p', 'h', 'a', 'n', 'g', 'p', 'h', 'a', 'n', 'a', 'a', 'a', '<end>'] banphangphatthana\n",
      "['t', 'a', 'm', 'p', 'h', 'a', 'm', 'a', 'a', 'i', 'a', 'a', 'a', 'a', 'n', 'a', 'n'] tambonphimainuea\n",
      "2\n",
      "['t', 'r', 'a', 'n', 'i', '<end>'] tarani\n",
      "2\n",
      "['d', 'u', 'c', 'h', 'a', 'n', 'a', 'p', '<end>'] duchanbe\n",
      "2\n",
      "['s', 'o', 'n', 'g', 'p', 'r', 'u', 'm', 'n', 'n', '<end>'] songpramun\n",
      "['s', 'o', 'n', ' ', 's', 'o', 'i', 's', 'o', 'p'] soi-omsin\n",
      "2\n",
      "['k', 'e', 'l', 'u', 'e', 'n', 'l', 'o', 'n', 'n', '<end>'] klueanklon\n",
      "['k', 'h', 'a', 'y', 'u', 'c', 'h', 'a', 'i', 'h', 'a', 'i', 'i'] khayihuachai\n",
      "2\n",
      "['k', 'r', 'a', 'c', 'h', 'o', 'm', '<end>'] krachom\n"
     ]
    }
   ],
   "source": [
    "for in_text,out_text in zip(input_texts[:50],target_texts[:50]):\n",
    "    input_tensor =  prepare_sequence_in(in_text)\n",
    "    target_tensor = prepare_sequence_target(out_text)\n",
    "    decoded_seq=evaluate(input_tensor, target_tensor, encoder, decoder)\n",
    "    print(decoded_seq,out_text)"
   ]
  },
  {
   "cell_type": "code",
   "execution_count": 43,
   "metadata": {},
   "outputs": [
    {
     "name": "stdout",
     "output_type": "stream",
     "text": [
      "2\n"
     ]
    },
    {
     "data": {
      "text/plain": [
       "['k', 'r', 'a', 'c', 'h', 'o', 'm', '<end>']"
      ]
     },
     "execution_count": 43,
     "metadata": {},
     "output_type": "execute_result"
    }
   ],
   "source": [
    "evaluate(input_tensor, target_tensor, encoder, decoder)"
   ]
  },
  {
   "cell_type": "code",
   "execution_count": 24,
   "metadata": {},
   "outputs": [],
   "source": [
    "torch.save({\n",
    "            'encoder_state_dict': encoder.state_dict(),\n",
    "            'decoder_state_dict': decoder.state_dict(),\n",
    "            'char_to_ix': char_to_ix,\n",
    "            'ix_to_char': ix_to_char,\n",
    "            'target_char_to_ix': target_char_to_ix,\n",
    "            'ix_to_target_char':ix_to_target_char\n",
    "    \n",
    "#            'optimizerE_state_dict': encoder_optimizer.state_dict(),\n",
    "#            'optimizerD_state_dict': decoder_optimizer.state_dict(),\n",
    "            }, \"thai2rom-pytorch.tar\")"
   ]
  },
  {
   "cell_type": "code",
   "execution_count": 25,
   "metadata": {},
   "outputs": [],
   "source": [
    "loader = torch.load(\"thai2rom-pytorch.tar\")"
   ]
  },
  {
   "cell_type": "code",
   "execution_count": 26,
   "metadata": {},
   "outputs": [
    {
     "data": {
      "text/plain": [
       "dict_keys(['encoder_state_dict', 'decoder_state_dict', 'char_to_ix', 'ix_to_char', 'target_char_to_ix', 'ix_to_target_char'])"
      ]
     },
     "execution_count": 26,
     "metadata": {},
     "output_type": "execute_result"
    }
   ],
   "source": [
    "loader.keys()"
   ]
  },
  {
   "cell_type": "code",
   "execution_count": 36,
   "metadata": {},
   "outputs": [],
   "source": [
    "char_to_ix = { ch:i for i,ch in enumerate(input_characters) }\n",
    "ix_to_char = { i:ch for i,ch in enumerate(input_characters) } #reverse dictionary\n",
    "#Output\n",
    "target_char_to_ix = { ch:i for i,ch in enumerate(target_characters) }\n",
    "ix_to_target_char = { i:ch for i,ch in enumerate(target_characters) } "
   ]
  },
  {
   "cell_type": "code",
   "execution_count": null,
   "metadata": {},
   "outputs": [],
   "source": []
  }
 ],
 "metadata": {
  "kernelspec": {
   "display_name": "Python 3",
   "language": "python",
   "name": "python3"
  },
  "language_info": {
   "codemirror_mode": {
    "name": "ipython",
    "version": 3
   },
   "file_extension": ".py",
   "mimetype": "text/x-python",
   "name": "python",
   "nbconvert_exporter": "python",
   "pygments_lexer": "ipython3",
   "version": "3.7.1"
  }
 },
 "nbformat": 4,
 "nbformat_minor": 2
}
