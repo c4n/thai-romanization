{
 "cells": [
  {
   "cell_type": "code",
   "execution_count": 1,
   "metadata": {},
   "outputs": [],
   "source": [
    "import torch\n",
    "import torch.nn as nn\n",
    "from torch import optim\n",
    "import torch.nn.functional as F\n",
    "\n",
    "import random\n",
    "device = torch.device(\"cuda:0\" if torch.cuda.is_available() else \"cpu\")"
   ]
  },
  {
   "cell_type": "code",
   "execution_count": 2,
   "metadata": {},
   "outputs": [],
   "source": [
    "data_path = '../dataset/data.csv'\n",
    "with open(data_path, 'r', encoding='utf-8-sig') as f:\n",
    "    lines = f.read().split('\\n')\n",
    "\n",
    "input_texts = []\n",
    "target_texts = []\n",
    "input_characters = set()\n",
    "target_characters = set()    \n",
    "    \n",
    "for line in lines:\n",
    "    input_text, target_text = line.split('\\t')\n",
    "    target_text = target_text \n",
    "    input_texts.append(input_text)\n",
    "    target_texts.append(target_text)\n",
    "    for char in input_text:\n",
    "        if char not in input_characters:\n",
    "            input_characters.add(char)\n",
    "    for char in target_text:\n",
    "        if char not in target_characters:\n",
    "            target_characters.add(char)"
   ]
  },
  {
   "cell_type": "code",
   "execution_count": 3,
   "metadata": {},
   "outputs": [
    {
     "data": {
      "text/plain": [
       "'kongphanthahanpuenyai'"
      ]
     },
     "execution_count": 3,
     "metadata": {},
     "output_type": "execute_result"
    }
   ],
   "source": [
    "target_texts[0]"
   ]
  },
  {
   "cell_type": "code",
   "execution_count": 4,
   "metadata": {},
   "outputs": [
    {
     "name": "stdout",
     "output_type": "stream",
     "text": [
      "There are 648241 lines and 92 unique characters in your input data.\n"
     ]
    }
   ],
   "source": [
    "# +4 for padding, unknown, <start>, <end>\n",
    "data_size, vocab_size = len(input_texts), len(input_characters)+1 \n",
    "output_vocab_size = len(target_characters)+1 #+3 padding, <start>, <end>\n",
    "print('There are %d lines and %d unique characters in your input data.' % (data_size, vocab_size))\n",
    "maxlen_in = len( max(input_texts, key=len)) #max input length\n",
    "maxlen_out = len( max(target_texts, key=len)) #max output length"
   ]
  },
  {
   "cell_type": "code",
   "execution_count": 5,
   "metadata": {},
   "outputs": [],
   "source": [
    "input_characters = sorted(input_characters)\n",
    "target_characters = sorted(target_characters) \n",
    "input_characters.insert(0,\"<PAD>\")#PADDING for input\n",
    "input_characters.insert(1,\"<UNK>\")\n",
    "input_characters.insert(2,\"<start>\")\n",
    "input_characters.insert(3,\"<end>\")\n",
    "target_characters.insert(0,\"<PAD>\")#PADDING for output\n",
    "target_characters.insert(1,\"<start>\")\n",
    "target_characters.insert(2,\"<end>\")\n",
    "\n",
    "#Input\n",
    "char_to_ix = { ch:i for i,ch in enumerate(input_characters) }\n",
    "ix_to_char = { i:ch for i,ch in enumerate(input_characters) } #reverse dictionary\n",
    "#Output\n",
    "target_char_to_ix = { ch:i for i,ch in enumerate(target_characters) }\n",
    "ix_to_target_char = { i:ch for i,ch in enumerate(target_characters) } #reverse dictionary"
   ]
  },
  {
   "cell_type": "code",
   "execution_count": 6,
   "metadata": {},
   "outputs": [],
   "source": [
    "m=648241\n",
    "Tx=maxlen_in\n",
    "Ty=maxlen_out"
   ]
  },
  {
   "cell_type": "code",
   "execution_count": 7,
   "metadata": {},
   "outputs": [
    {
     "data": {
      "text/plain": [
       "76"
      ]
     },
     "execution_count": 7,
     "metadata": {},
     "output_type": "execute_result"
    }
   ],
   "source": [
    "maxlen_in"
   ]
  },
  {
   "cell_type": "code",
   "execution_count": 8,
   "metadata": {},
   "outputs": [],
   "source": [
    "def prepare_sequence_in( input_text):\n",
    "    idxs = []\n",
    "    for w in input_text:\n",
    "        if w in char_to_ix:\n",
    "            idxs.append(char_to_ix[w])\n",
    "        else:\n",
    "            idxs.append(char_to_ix[\"<UNK>\"])\n",
    "    idxs.append(target_char_to_ix[\"<end>\"])\n",
    "    tensor = torch.tensor(idxs, dtype=torch.long)\n",
    "    return tensor.to(device)\n",
    "\n",
    "def prepare_sequence_target( input_text):\n",
    "    idxs = [target_char_to_ix[w] for w in input_text]\n",
    "    idxs.append(target_char_to_ix[\"<end>\"])\n",
    "    tensor = torch.tensor(idxs, dtype=torch.long)\n",
    "    return tensor.to(device)\n",
    "\n",
    "\n"
   ]
  },
  {
   "cell_type": "code",
   "execution_count": 9,
   "metadata": {},
   "outputs": [],
   "source": [
    "n_h = 256 #hidden dimensions for encoder \n",
    "n_s = 256 #hidden dimensions for decoder\n",
    "emb_dim = 256 #character embedding size"
   ]
  },
  {
   "cell_type": "code",
   "execution_count": 10,
   "metadata": {},
   "outputs": [],
   "source": [
    "class Encoder(nn.Module):\n",
    "    def __init__(self, vocab_size, hidden_dim, emb_dim):\n",
    "        super(Encoder, self).__init__()\n",
    "        self.hidden_dim = hidden_dim\n",
    "        self.char_emb = nn.Embedding(vocab_size, emb_dim)\n",
    "        self.lstm = nn.LSTM(emb_dim, self.hidden_dim // 2, bidirectional = True)\n",
    "\n",
    "    def forward(self, input_seq):\n",
    "        self.hidden = self.init_hidden()\n",
    "        embedded = self.char_emb(input_seq)\n",
    "        output, self.hidden = self.lstm(embedded.view(len(embedded), 1, -1), self.hidden)\n",
    "        return output, self.hidden\n",
    "\n",
    "    def init_hidden(self):\n",
    "        # The axes semantics are (num_layers, minibatch_size, hidden_dim)\n",
    "        return (torch.zeros(2, 1, self.hidden_dim // 2,requires_grad=True).to(device),\n",
    "    torch.zeros(2, 1, self.hidden_dim // 2,requires_grad=True).to(device))\n",
    "\n",
    "class OneStepDecoder(nn.Module):\n",
    "    def __init__(self, vocab_size, hidden_dim, emb_dim):\n",
    "        super(OneStepDecoder, self).__init__()\n",
    "        self.hidden_dim = hidden_dim\n",
    "        self.char_emb = nn.Embedding(vocab_size, emb_dim)\n",
    "        self.lstm = nn.LSTM(emb_dim, hidden_dim)\n",
    "        self.out = nn.Linear(hidden_dim, vocab_size)\n",
    "        self.softmax = nn.LogSoftmax(dim=1)\n",
    "\n",
    "        \n",
    "    def forward(self, input_step,hidden,encoder_outputs):\n",
    "    \n",
    "        embedded = self.char_emb(input_step).view(1, 1, -1)\n",
    "        output = embedded    \n",
    "        output = F.relu(output)\n",
    "        output, hidden = self.lstm(output, hidden)\n",
    "        output = F.log_softmax(self.out(output[0]), dim=1)\n",
    "        return output, hidden, []#this empty list should be replaced with decoder attn score \n",
    "\n",
    "    def init_hidden(self):\n",
    "        # The axes semantics are (num_layers, minibatch_size, hidden_dim)\n",
    "        return (torch.zeros(1, 1, self.hidden_dim ,requires_grad=True).to(device),\n",
    "    torch.zeros(1, 1, self.hidden_dim,requires_grad=True).to(device))\n"
   ]
  },
  {
   "cell_type": "code",
   "execution_count": 11,
   "metadata": {},
   "outputs": [],
   "source": [
    "#reference:https://pytorch.org/tutorials/intermediate/seq2seq_translation_tutorial.html#sphx-glr-intermediate-seq2seq-translation-tutorial-py\n",
    "teacher_forcing_ratio = 0.5\n",
    "\n",
    "\n",
    "def train(input_tensor, target_tensor, encoder, decoder, encoder_optimizer, decoder_optimizer, criterion, max_length=maxlen_out):\n",
    "  \n",
    "    encoder_optimizer.zero_grad()\n",
    "    decoder_optimizer.zero_grad()\n",
    "\n",
    "    input_length = input_tensor.size(0)\n",
    "    target_length = target_tensor.size(0)\n",
    "\n",
    "    #encoder_outputs = torch.zeros(max_length, encoder.hidden_dim, device=device)\n",
    "\n",
    "    loss = 0\n",
    "\n",
    "    encoder_outputs, encoder_hidden = encoder(input_tensor)\n",
    "\n",
    "\n",
    "    decoder_input = torch.tensor([target_char_to_ix[\"<start>\"]], device=device)\n",
    "    decoder_hidden = (encoder_hidden[0].reshape(1,1,encoder.hidden_dim),encoder_hidden[1].reshape(1,1,encoder.hidden_dim))\n",
    "\n",
    "    use_teacher_forcing = True if random.random() < teacher_forcing_ratio else False\n",
    "\n",
    "    if use_teacher_forcing:\n",
    "        # Teacher forcing: Feed the target as the next input\n",
    "        for di in range(target_length):\n",
    "            decoder_output, decoder_hidden, decoder_attention = decoder(\n",
    "                decoder_input, decoder_hidden, encoder_outputs)\n",
    "#           print(decoder_output.shape,target_tensor[di].shape,target_tensor[di])\n",
    "            loss += criterion(decoder_output, target_tensor[di].view(1))\n",
    "            decoder_input = target_tensor[di].view(1)  # Teacher forcing\n",
    "\n",
    "    else:\n",
    "        # Without teacher forcing: use its own predictions as the next input\n",
    "        for di in range(target_length):\n",
    "            decoder_output, decoder_hidden,decoder_attention = decoder(\n",
    "                decoder_input, decoder_hidden, encoder_outputs)\n",
    "            topv, topi = decoder_output.topk(1)\n",
    "            decoder_input = topi.squeeze().detach()  # detach from history as input\n",
    "\n",
    "            loss += criterion(decoder_output, target_tensor[di].view(1))\n",
    "            if decoder_input.item() == \"<end>\":\n",
    "                break\n",
    "\n",
    "    loss.backward()\n",
    "\n",
    "    encoder_optimizer.step()\n",
    "    decoder_optimizer.step()\n",
    "\n",
    "    return loss.item() / target_length\n"
   ]
  },
  {
   "cell_type": "code",
   "execution_count": 12,
   "metadata": {},
   "outputs": [],
   "source": [
    "import time\n",
    "import math\n",
    "\n",
    "\n",
    "def asMinutes(s):\n",
    "    m = math.floor(s / 60)\n",
    "    s -= m * 60\n",
    "    return '%dm %ds' % (m, s)\n",
    "\n",
    "\n",
    "def timeSince(since, percent):\n",
    "    now = time.time()\n",
    "    s = now - since\n",
    "    es = s / (percent)\n",
    "    rs = es - s\n",
    "    return '%s (- %s)' % (asMinutes(s), asMinutes(rs))"
   ]
  },
  {
   "cell_type": "code",
   "execution_count": 13,
   "metadata": {},
   "outputs": [],
   "source": [
    "encoder = Encoder(len(char_to_ix), n_h, emb_dim).to(device)\n",
    "decoder = OneStepDecoder(len(char_to_ix), n_h, emb_dim).to(device)"
   ]
  },
  {
   "cell_type": "code",
   "execution_count": 14,
   "metadata": {},
   "outputs": [],
   "source": [
    "learning_rate = 0.001\n",
    "encoder_optimizer = torch.optim.Adam(encoder.parameters(), lr=learning_rate)\n",
    "decoder_optimizer = torch.optim.Adam(decoder.parameters(), lr=learning_rate)\n",
    "criterion = nn.NLLLoss()"
   ]
  },
  {
   "cell_type": "code",
   "execution_count": 15,
   "metadata": {},
   "outputs": [],
   "source": [
    "def trainIters(encoder, decoder, epoch_num, learning_rate,encoder_optimizer,decoder_optimizer,criterion,print_every=1000,):\n",
    "    start = time.time()\n",
    "    plot_losses = []\n",
    "    print_loss_total = 0  # Reset every print_every\n",
    "    \n",
    "    \n",
    "    for epoch in range(epoch_num):\n",
    "        count = 1\n",
    "        for in_text,out_text in zip(input_texts,target_texts):\n",
    "            input_tensor =  prepare_sequence_in(in_text)\n",
    "            target_tensor = prepare_sequence_target(out_text)\n",
    "            loss = train(input_tensor, target_tensor, encoder,\n",
    "                         decoder, encoder_optimizer, decoder_optimizer, criterion)\n",
    "            print_loss_total += loss\n",
    "            #print(print_loss_total)\n",
    "            if count % print_every == 0:\n",
    "                print_loss_avg = print_loss_total / print_every\n",
    "                print_loss_total = 0\n",
    "                print('%s (%d %d%%) %.4f' % (timeSince(start, epoch+1 / epoch_num),\n",
    "                                                 epoch, epoch+1 / epoch_num * 100, print_loss_avg))\n",
    "            count += 1\n"
   ]
  },
  {
   "cell_type": "code",
   "execution_count": 16,
   "metadata": {},
   "outputs": [
    {
     "name": "stdout",
     "output_type": "stream",
     "text": [
      "0m 10s (- 1m 38s) (0 10%) 2.1072\n",
      "0m 21s (- 3m 17s) (0 10%) 1.6195\n",
      "0m 33s (- 4m 57s) (0 10%) 1.4371\n",
      "0m 44s (- 6m 37s) (0 10%) 1.3479\n",
      "0m 55s (- 8m 18s) (0 10%) 1.2746\n",
      "1m 6s (- 9m 59s) (0 10%) 1.1861\n",
      "1m 17s (- 11m 39s) (0 10%) 1.1398\n",
      "1m 28s (- 13m 18s) (0 10%) 1.1049\n",
      "1m 39s (- 14m 57s) (0 10%) 1.0615\n",
      "1m 50s (- 16m 36s) (0 10%) 1.0075\n",
      "2m 1s (- 18m 16s) (0 10%) 1.0261\n",
      "2m 12s (- 19m 56s) (0 10%) 1.0252\n",
      "2m 24s (- 21m 36s) (0 10%) 0.9867\n",
      "2m 34s (- 23m 6s) (0 10%) 0.9261\n",
      "2m 44s (- 24m 44s) (0 10%) 0.9086\n",
      "2m 56s (- 26m 24s) (0 10%) 0.9072\n",
      "3m 7s (- 28m 6s) (0 10%) 0.9098\n",
      "3m 18s (- 29m 46s) (0 10%) 0.8731\n",
      "3m 29s (- 31m 27s) (0 10%) 0.8605\n",
      "3m 40s (- 33m 6s) (0 10%) 0.8069\n",
      "3m 51s (- 34m 46s) (0 10%) 0.8128\n",
      "4m 3s (- 36m 27s) (0 10%) 0.8162\n",
      "4m 14s (- 38m 8s) (0 10%) 0.8624\n",
      "4m 25s (- 39m 48s) (0 10%) 0.7978\n",
      "4m 36s (- 41m 25s) (0 10%) 0.7746\n",
      "4m 47s (- 43m 7s) (0 10%) 0.7778\n",
      "4m 58s (- 44m 48s) (0 10%) 0.7592\n",
      "5m 9s (- 46m 27s) (0 10%) 0.7813\n",
      "5m 20s (- 48m 7s) (0 10%) 0.7573\n",
      "5m 32s (- 49m 48s) (0 10%) 0.7388\n",
      "5m 43s (- 51m 27s) (0 10%) 0.7323\n",
      "5m 54s (- 53m 7s) (0 10%) 0.7228\n",
      "6m 5s (- 54m 47s) (0 10%) 0.7384\n",
      "6m 16s (- 56m 26s) (0 10%) 0.7452\n",
      "6m 27s (- 58m 8s) (0 10%) 0.7237\n",
      "6m 38s (- 59m 49s) (0 10%) 0.7250\n",
      "6m 49s (- 61m 29s) (0 10%) 0.6860\n",
      "7m 1s (- 63m 10s) (0 10%) 0.6992\n",
      "7m 12s (- 64m 51s) (0 10%) 0.7178\n",
      "7m 23s (- 66m 30s) (0 10%) 0.7246\n",
      "7m 34s (- 68m 9s) (0 10%) 0.6688\n",
      "7m 45s (- 69m 49s) (0 10%) 0.6668\n",
      "7m 56s (- 71m 27s) (0 10%) 0.7071\n",
      "8m 7s (- 73m 5s) (0 10%) 0.6555\n",
      "8m 18s (- 74m 44s) (0 10%) 0.6412\n",
      "8m 29s (- 76m 23s) (0 10%) 0.6425\n",
      "8m 40s (- 78m 2s) (0 10%) 0.6517\n",
      "8m 51s (- 79m 41s) (0 10%) 0.6328\n",
      "9m 2s (- 81m 23s) (0 10%) 0.6328\n",
      "9m 13s (- 83m 4s) (0 10%) 0.6492\n",
      "9m 24s (- 84m 43s) (0 10%) 0.6380\n",
      "9m 35s (- 86m 22s) (0 10%) 0.6226\n"
     ]
    },
    {
     "ename": "KeyboardInterrupt",
     "evalue": "",
     "output_type": "error",
     "traceback": [
      "\u001b[0;31m---------------------------------------------------------------------------\u001b[0m",
      "\u001b[0;31mKeyboardInterrupt\u001b[0m                         Traceback (most recent call last)",
      "\u001b[0;32m<ipython-input-16-00fcd214120e>\u001b[0m in \u001b[0;36m<module>\u001b[0;34m\u001b[0m\n\u001b[0;32m----> 1\u001b[0;31m \u001b[0mtrainIters\u001b[0m\u001b[0;34m(\u001b[0m\u001b[0mencoder\u001b[0m\u001b[0;34m,\u001b[0m \u001b[0mdecoder\u001b[0m\u001b[0;34m,\u001b[0m \u001b[0;36m10\u001b[0m\u001b[0;34m,\u001b[0m\u001b[0mlearning_rate\u001b[0m\u001b[0;34m,\u001b[0m\u001b[0mencoder_optimizer\u001b[0m\u001b[0;34m,\u001b[0m\u001b[0mdecoder_optimizer\u001b[0m\u001b[0;34m,\u001b[0m\u001b[0mcriterion\u001b[0m\u001b[0;34m,\u001b[0m\u001b[0mprint_every\u001b[0m\u001b[0;34m=\u001b[0m\u001b[0;36m1000\u001b[0m\u001b[0;34m)\u001b[0m\u001b[0;34m\u001b[0m\u001b[0;34m\u001b[0m\u001b[0m\n\u001b[0m",
      "\u001b[0;32m<ipython-input-15-2a05563861ce>\u001b[0m in \u001b[0;36mtrainIters\u001b[0;34m(encoder, decoder, epoch_num, learning_rate, encoder_optimizer, decoder_optimizer, criterion, print_every)\u001b[0m\n\u001b[1;32m     11\u001b[0m             \u001b[0mtarget_tensor\u001b[0m \u001b[0;34m=\u001b[0m \u001b[0mprepare_sequence_target\u001b[0m\u001b[0;34m(\u001b[0m\u001b[0mout_text\u001b[0m\u001b[0;34m)\u001b[0m\u001b[0;34m\u001b[0m\u001b[0;34m\u001b[0m\u001b[0m\n\u001b[1;32m     12\u001b[0m             loss = train(input_tensor, target_tensor, encoder,\n\u001b[0;32m---> 13\u001b[0;31m                          decoder, encoder_optimizer, decoder_optimizer, criterion)\n\u001b[0m\u001b[1;32m     14\u001b[0m             \u001b[0mprint_loss_total\u001b[0m \u001b[0;34m+=\u001b[0m \u001b[0mloss\u001b[0m\u001b[0;34m\u001b[0m\u001b[0;34m\u001b[0m\u001b[0m\n\u001b[1;32m     15\u001b[0m             \u001b[0;31m#print(print_loss_total)\u001b[0m\u001b[0;34m\u001b[0m\u001b[0;34m\u001b[0m\u001b[0;34m\u001b[0m\u001b[0m\n",
      "\u001b[0;32m<ipython-input-11-277986917e77>\u001b[0m in \u001b[0;36mtrain\u001b[0;34m(input_tensor, target_tensor, encoder, decoder, encoder_optimizer, decoder_optimizer, criterion, max_length)\u001b[0m\n\u001b[1;32m     40\u001b[0m             \u001b[0mdecoder_input\u001b[0m \u001b[0;34m=\u001b[0m \u001b[0mtopi\u001b[0m\u001b[0;34m.\u001b[0m\u001b[0msqueeze\u001b[0m\u001b[0;34m(\u001b[0m\u001b[0;34m)\u001b[0m\u001b[0;34m.\u001b[0m\u001b[0mdetach\u001b[0m\u001b[0;34m(\u001b[0m\u001b[0;34m)\u001b[0m  \u001b[0;31m# detach from history as input\u001b[0m\u001b[0;34m\u001b[0m\u001b[0;34m\u001b[0m\u001b[0m\n\u001b[1;32m     41\u001b[0m \u001b[0;34m\u001b[0m\u001b[0m\n\u001b[0;32m---> 42\u001b[0;31m             \u001b[0mloss\u001b[0m \u001b[0;34m+=\u001b[0m \u001b[0mcriterion\u001b[0m\u001b[0;34m(\u001b[0m\u001b[0mdecoder_output\u001b[0m\u001b[0;34m,\u001b[0m \u001b[0mtarget_tensor\u001b[0m\u001b[0;34m[\u001b[0m\u001b[0mdi\u001b[0m\u001b[0;34m]\u001b[0m\u001b[0;34m.\u001b[0m\u001b[0mview\u001b[0m\u001b[0;34m(\u001b[0m\u001b[0;36m1\u001b[0m\u001b[0;34m)\u001b[0m\u001b[0;34m)\u001b[0m\u001b[0;34m\u001b[0m\u001b[0;34m\u001b[0m\u001b[0m\n\u001b[0m\u001b[1;32m     43\u001b[0m             \u001b[0;32mif\u001b[0m \u001b[0mdecoder_input\u001b[0m\u001b[0;34m.\u001b[0m\u001b[0mitem\u001b[0m\u001b[0;34m(\u001b[0m\u001b[0;34m)\u001b[0m \u001b[0;34m==\u001b[0m \u001b[0;34m\"<end>\"\u001b[0m\u001b[0;34m:\u001b[0m\u001b[0;34m\u001b[0m\u001b[0;34m\u001b[0m\u001b[0m\n\u001b[1;32m     44\u001b[0m                 \u001b[0;32mbreak\u001b[0m\u001b[0;34m\u001b[0m\u001b[0;34m\u001b[0m\u001b[0m\n",
      "\u001b[0;31mKeyboardInterrupt\u001b[0m: "
     ]
    }
   ],
   "source": [
    "trainIters(encoder, decoder, 10,learning_rate,encoder_optimizer,decoder_optimizer,criterion,print_every=1000)"
   ]
  },
  {
   "cell_type": "code",
   "execution_count": 17,
   "metadata": {},
   "outputs": [],
   "source": [
    "def evaluate(input_tensor, target_tensor, encoder, decoder, max_length=maxlen_out):\n",
    "  \n",
    "\n",
    "    input_length = input_tensor.size(0)\n",
    "    target_length = target_tensor.size(0)\n",
    "\n",
    "    encoder_outputs, encoder_hidden = encoder(input_tensor)\n",
    "\n",
    "    decoder_input = torch.tensor([target_char_to_ix[\"<start>\"]], device=device)\n",
    "    decoder_hidden = (encoder_hidden[0].reshape(1,1,encoder.hidden_dim),encoder_hidden[1].reshape(1,1,encoder.hidden_dim))\n",
    "\n",
    "    decoded_seq = []\n",
    "\n",
    "    for di in range(target_length):\n",
    "        decoder_output, decoder_hidden,decoder_attention = decoder(\n",
    "            decoder_input, decoder_hidden, encoder_outputs)\n",
    "        topv, topi = decoder_output.data.topk(1)\n",
    "\n",
    "        if topi.item() == \"<end>\":\n",
    "            decoded_seq.append('<end>')\n",
    "            break\n",
    "        else:\n",
    "            decoded_seq.append(ix_to_target_char[topi.item()])\n",
    "\n",
    "        decoder_input = topi.squeeze().detach()\n",
    "\n",
    "    return decoded_seq"
   ]
  },
  {
   "cell_type": "code",
   "execution_count": 19,
   "metadata": {},
   "outputs": [
    {
     "name": "stdout",
     "output_type": "stream",
     "text": [
      "['k', 'o', 'n', 'g', 'p', 'h', 'a', 't', 'u', 'u', 'n', 'a', 'a', 'a', 'a', 'a', 'a', 'a', 'a', '<end>', '<end>', '<end>'] kongphanthahanpuenyai\n",
      "['w', 'i', 't', 'h', 'u', 'n', '<end>'] withun\n",
      "['m', 'e', 't', 'a', 'b', 'o', 'n', 's', 'o', 'm', '<end>', 'm'] metabolisom\n",
      "['b', 'a', 'n', 'n', 'o', 'n', 'g', 'l', 'a', 'o', '<end>'] bannonglao\n",
      "['a', 'y', 'u', 't', '<end>'] ayut\n",
      "['t', 'h', 'a', 'e', 'm', 'p', 'a', '<end>'] thaempa\n",
      "['p', 'r', 'a', 't', 'h', 'a', 'e', 'k', 'a', 'n', 's', 'a', 'n', 'l', 'a', 'e'] prathetkrinlaen\n",
      "['p', 'h', 'o', 'k', 'k', 'h', 'r', 'o', 'n', 'g', 'k', 'h', 'r', 'o', 'e'] phakkhongkerot\n",
      "['k', 'a', 'n', 's', 'u', 'p', '<end>'] kansup\n",
      "['b', 'a', 'n', 't', 'h', 'a', 'p', 'h', 'a', 'e', 'p', 'h', 'o', 'k', 'h', 'h', 'a'] banthepphayaktai\n",
      "['m', 'o', 'd', 'u', 'n', 'a', 'n', 'a', 't', 'a', 'n', '<end>', '<end>'] modulatnatat\n",
      "['l', 'a', 'b', 'o', 'n', 'g', '<end>'] labong\n",
      "['k', 'a', 'n', 'e', 'p', 'l', 'e', 'n', '<end>'] kalenpen\n",
      "['b', 'a', 'n', 's', 'a', 'i', 'p', 'h', 'a', 'e', 'n'] bansaiphet\n",
      "['b', 'a', 'n', 'c', 'h', 'a', 'i', 's', 'a', 'w', 'a', 'n', 'g', '<end>'] banchaisawang\n",
      "['b', 'a', 'n', 'k', 'h', 'l', 'o', 'n', 'g', 'm', 'a', 'l', 'i', '<end>'] bankhlongmali\n",
      "['n', 'a', 'n', '<end>'] nan\n",
      "['k', 'a', 'n', 'c', 'h', 'a', 'e', 'k', 'k', 'h', 'a', 'e', 'n', 'g', 'w', 'a', 'n', 'g', 'n', 'g', 'a', 'a', 'a', '<end>', '<end>'] kanchaekchaengchuangwela\n",
      "['y', 'i', 'n', 'm', 'a', 'l', 'a', 'k', '<end>'] yinmalak\n",
      "['p', 'h', 'a', 'n', 't', 'h', 'a', 'n', 'a', '<end>'] phanthana\n",
      "['k', 'a', 'n', 'w', 'a', 'n', 'g', 't', 'u', 'a', '<end>'] kanwangtua\n",
      "['y', 'a', 'n', 'g', 'y', 'a', 'n', 'l', 'u', 'a', 'n', 'g', '<end>'] yangyailuang\n",
      "['t', 'a', 'm', 'b', 'o', 'n', 'l', 'o', 'e', 'n', 'g', 'f', 'o', 'k', '<end>', '<end>'] tambonloengfaek\n",
      "['l', 'o', 'm', 'a', 'a', 'b', 'a', 'a', 'a', 'a', 'a', 'a', 'a', 'a', 'a', 'a', 'a', 'a', 'a'] lomahuabatlangriap\n",
      "['k', 'a', 'n', 'k', 'o', 'k', '<end>', '<end>', '<end>'] kankohok\n",
      "['b', 'a', 'n', 'n', 'o', 'n', 'g', 'p', 'h', 'o', 'n', 'n', 'n', 'n', 'g', '<end>'] bannongphongnoi\n",
      "['k', 'n', 'n', 's', 'a', 'n', 'g', '<end>'] konsang\n",
      "['a', 'n', 'u', 's', 'a', 'p', 'h', 'a', 'k', 'c', 'h', 'a', 't', 't', 'h'] anusaphakachat\n",
      "['b', 'a', 'n', 'k', 'h', 'o', 'n', 't', 'a', 'i', '<end>'] bankhontai\n",
      "['b', 'a', 'n', 'n', 'a', 'k', 'a', 's', 'e', 't', '<end>'] bannakaset\n",
      "['m', 'o', 't', 'r', 'a', 'e', 'n', 'g', '<end>'] motraeng\n",
      "['u', 'n', 'a', 'a', 'k', 'a', 'n'] unakan\n",
      "['w', 'a', 'n', 'g', 'k', 'h', 'o', '<end>'] wangkho\n",
      "['k', 'h', 'l', 'o', 'n', 'g', 'k', 'h', 'a', 'n', 'n', 'n', '<end>'] khlongkhanan\n",
      "['a', 'r', 'a', '<end>', '<end>', '<end>'] oraha\n",
      "['w', 'i', 't', 's', 'a', 'n', 'a', 'n', 'a', '<end>', '<end>'] wisatchana\n",
      "['h', 'a', 'r'] ra\n",
      "['t', 'a', 'm', 'm', 'o', 'e', 'e', '<end>'] tamdoem\n",
      "['m', 'u', 'n', 'g', 'm', 'a', 'n', '<end>'] mungman\n",
      "['b', 'a', 'n', 'n', 'a', 'm', 'p', 'h', 'e', 't', '<end>'] bannamphet\n",
      "['b', 'a', 'n', 't', 'h', 'a', 'p', 'n', 'a', 'm', '<end>'] banthapnam\n",
      "['b', 'a', 'n', 'p', 'h', 'a', 'n', 'g', 'p', 'h', 'a', 't', 't', 'h', 'a', 'n', 'a', '<end>'] banphangphatthana\n",
      "['t', 'a', 'm', 'b', 'o', 'n', 'p', 'h', 'u', 'm', 'i', 'a', 'n', 'n', 'e', 'a', '<end>'] tambonphimainuea\n",
      "['t', 'r', 'a', 'n', 'i', '<end>', '<end>'] tarani\n",
      "['d', 'u', 't', 'h', 'a', 'n', 'n', 'n', '<end>'] duchanbe\n",
      "['s', 'o', 'n', 'g', 'p', 'r', 'a', 'm', 'u', 'n', '<end>'] songpramun\n",
      "['s', 'o', 'i', '-', 'i', 'm', 's', 's', 'i', 'n'] soi-omsin\n",
      "['k', 'l', 'u', 'e', 'a', 'n', 'l', 'o', 'k', '<end>', 'n'] klueanklon\n",
      "['k', 'h', 'a', 'i', 'h', 'u', 'a', 'i', 'h', 'a', 'i', '<end>', '<end>'] khayihuachai\n",
      "['k', 'r', 'a', 'c', 'h', 'o', 'm', '<end>'] krachom\n"
     ]
    }
   ],
   "source": [
    "for in_text,out_text in zip(input_texts[:50],target_texts[:50]):\n",
    "    input_tensor =  prepare_sequence_in(in_text)\n",
    "    target_tensor = prepare_sequence_target(out_text)\n",
    "    decoded_seq=evaluate(input_tensor, target_tensor, encoder, decoder)\n",
    "    print(decoded_seq,out_text)"
   ]
  },
  {
   "cell_type": "code",
   "execution_count": 20,
   "metadata": {},
   "outputs": [
    {
     "data": {
      "text/plain": [
       "['k', 'r', 'a', 'c', 'h', 'o', 'm', '<end>']"
      ]
     },
     "execution_count": 20,
     "metadata": {},
     "output_type": "execute_result"
    }
   ],
   "source": [
    "evaluate(input_tensor, target_tensor, encoder, decoder)"
   ]
  },
  {
   "cell_type": "code",
   "execution_count": null,
   "metadata": {},
   "outputs": [],
   "source": []
  }
 ],
 "metadata": {
  "kernelspec": {
   "display_name": "Python 3",
   "language": "python",
   "name": "python3"
  },
  "language_info": {
   "codemirror_mode": {
    "name": "ipython",
    "version": 3
   },
   "file_extension": ".py",
   "mimetype": "text/x-python",
   "name": "python",
   "nbconvert_exporter": "python",
   "pygments_lexer": "ipython3",
   "version": "3.7.1"
  }
 },
 "nbformat": 4,
 "nbformat_minor": 2
}
